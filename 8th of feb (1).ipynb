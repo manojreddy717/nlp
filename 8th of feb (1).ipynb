{
 "cells": [
  {
   "cell_type": "code",
   "execution_count": 2,
   "id": "63e5ab21-ff10-428a-bbc3-1a2d46117f90",
   "metadata": {},
   "outputs": [
    {
     "name": "stdout",
     "output_type": "stream",
     "text": [
      "sainath reddie\n"
     ]
    }
   ],
   "source": [
    "print(\"sainath reddie\")"
   ]
  },
  {
   "cell_type": "code",
   "execution_count": 4,
   "id": "81636369-8012-4f80-90ca-2920ad9b8e50",
   "metadata": {},
   "outputs": [
    {
     "name": "stdout",
     "output_type": "stream",
     "text": [
      "sainath \n",
      "reddie\n"
     ]
    }
   ],
   "source": [
    "print(\"sainath \\nreddie\")"
   ]
  },
  {
   "cell_type": "code",
   "execution_count": 6,
   "id": "411f76a6-f2d1-485b-8cc6-719d39e411ee",
   "metadata": {},
   "outputs": [
    {
     "name": "stdout",
     "output_type": "stream",
     "text": [
      "reddieh \n"
     ]
    }
   ],
   "source": [
    "print(\"sainath \\rreddie\")"
   ]
  },
  {
   "cell_type": "code",
   "execution_count": 8,
   "id": "ccbba279-131e-49c9-b41b-a66905a6e789",
   "metadata": {},
   "outputs": [
    {
     "name": "stdout",
     "output_type": "stream",
     "text": [
      "sainath \treddie\n"
     ]
    }
   ],
   "source": [
    "print(\"sainath \\treddie\")"
   ]
  },
  {
   "cell_type": "code",
   "execution_count": 22,
   "id": "cfc0c0a1-8106-49ec-904c-1ca10b4350b2",
   "metadata": {},
   "outputs": [
    {
     "name": "stdout",
     "output_type": "stream",
     "text": [
      "['07']\n"
     ]
    }
   ],
   "source": [
    "import re\n",
    "pattern=r'\\d+'\n",
    "string=\"07 manoj wants to learn python\"\n",
    "match=re.findall(pattern,string)\n",
    "print(match)"
   ]
  },
  {
   "cell_type": "code",
   "execution_count": 26,
   "id": "7a9807b7-7f4d-4018-8c6d-b25c47e7742e",
   "metadata": {},
   "outputs": [
    {
     "data": {
      "text/plain": [
       "'07'"
      ]
     },
     "execution_count": 26,
     "metadata": {},
     "output_type": "execute_result"
    }
   ],
   "source": [
    "import re\n",
    "pattern=r'\\d+'\n",
    "string=\"07 manoj wants to learn python\"\n",
    "matching=re.search(pattern,string)\n",
    "matching.group()"
   ]
  },
  {
   "cell_type": "code",
   "execution_count": null,
   "id": "46c426f7-a3ab-42f2-a94b-83fddc545bcc",
   "metadata": {},
   "outputs": [],
   "source": []
  }
 ],
 "metadata": {
  "kernelspec": {
   "display_name": "Python [conda env:base] *",
   "language": "python",
   "name": "conda-base-py"
  },
  "language_info": {
   "codemirror_mode": {
    "name": "ipython",
    "version": 3
   },
   "file_extension": ".py",
   "mimetype": "text/x-python",
   "name": "python",
   "nbconvert_exporter": "python",
   "pygments_lexer": "ipython3",
   "version": "3.12.7"
  }
 },
 "nbformat": 4,
 "nbformat_minor": 5
}
