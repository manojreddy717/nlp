{
 "cells": [
  {
   "cell_type": "code",
   "execution_count": 2,
   "id": "b89ea5f5-30a2-41ba-831e-4e0ab2010adf",
   "metadata": {},
   "outputs": [
    {
     "name": "stdout",
     "output_type": "stream",
     "text": [
      "Integer Variable:\n",
      "Value: 10\n",
      "Type: <class 'int'>\n",
      "\n",
      "Float Variable:\n",
      "Value: 3.14\n",
      "Type: <class 'float'>\n",
      "\n",
      "String Variable:\n",
      "Value: Hello, World!\n",
      "Type: <class 'str'>\n",
      "\n",
      "Boolean Variable:\n",
      "Value: True\n",
      "Type: <class 'bool'>\n"
     ]
    }
   ],
   "source": [
    "# Declare variables of different data types\n",
    "integer_variable = 10         # Integer\n",
    "float_variable = 3.14         # Float\n",
    "string_variable = \"Hello, World!\"  # String\n",
    "boolean_variable = True       # Boolean\n",
    "\n",
    "# Print each variable and its type\n",
    "print(\"Integer Variable:\")\n",
    "print(\"Value:\", integer_variable)\n",
    "print(\"Type:\", type(integer_variable))\n",
    "print()\n",
    "\n",
    "print(\"Float Variable:\")\n",
    "print(\"Value:\", float_variable)\n",
    "print(\"Type:\", type(float_variable))\n",
    "print()\n",
    "\n",
    "print(\"String Variable:\")\n",
    "print(\"Value:\", string_variable)\n",
    "print(\"Type:\", type(string_variable))\n",
    "print()\n",
    "\n",
    "print(\"Boolean Variable:\")\n",
    "print(\"Value:\", boolean_variable)\n",
    "print(\"Type:\", type(boolean_variable))\n"
   ]
  },
  {
   "cell_type": "code",
   "execution_count": null,
   "id": "7cbb6eaa-be52-4dea-9f7c-5fbb1393a447",
   "metadata": {},
   "outputs": [],
   "source": []
  }
 ],
 "metadata": {
  "kernelspec": {
   "display_name": "Python [conda env:base] *",
   "language": "python",
   "name": "conda-base-py"
  },
  "language_info": {
   "codemirror_mode": {
    "name": "ipython",
    "version": 3
   },
   "file_extension": ".py",
   "mimetype": "text/x-python",
   "name": "python",
   "nbconvert_exporter": "python",
   "pygments_lexer": "ipython3",
   "version": "3.12.7"
  }
 },
 "nbformat": 4,
 "nbformat_minor": 5
}
