{
 "cells": [
  {
   "cell_type": "code",
   "execution_count": 1,
   "id": "db3873b4-ced6-453b-893b-257b5838645e",
   "metadata": {},
   "outputs": [
    {
     "name": "stdout",
     "output_type": "stream",
     "text": [
      "List:\n",
      "Element at index 0: 10\n",
      "Element at index 2: 30\n",
      "Last element: 50\n",
      "\n",
      "Tuple:\n",
      "Element at index 1: banana\n",
      "Element at index 3: date\n",
      "Slice of tuple (index 1 to 3): ('banana', 'cherry', 'date')\n",
      "\n",
      "Dictionary:\n",
      "Value for key 'name': Alice\n",
      "Value for key 'job': Engineer\n",
      "Keys in dictionary: ['name', 'age', 'city', 'job', 'hobby']\n",
      "Values in dictionary: ['Alice', 25, 'New York', 'Engineer', 'Painting']\n"
     ]
    }
   ],
   "source": [
    "# List\n",
    "my_list = [10, 20, 30, 40, 50]\n",
    "\n",
    "# Accessing elements of the list\n",
    "print(\"List:\")\n",
    "print(\"Element at index 0:\", my_list[0])  # First element\n",
    "print(\"Element at index 2:\", my_list[2])  # Third element\n",
    "print(\"Last element:\", my_list[-1])  # Last element using negative indexing\n",
    "print()\n",
    "\n",
    "# Tuple\n",
    "my_tuple = (\"apple\", \"banana\", \"cherry\", \"date\", \"elderberry\")\n",
    "\n",
    "# Accessing elements of the tuple\n",
    "print(\"Tuple:\")\n",
    "print(\"Element at index 1:\", my_tuple[1])  # Second element\n",
    "print(\"Element at index 3:\", my_tuple[3])  # Fourth element\n",
    "print(\"Slice of tuple (index 1 to 3):\", my_tuple[1:4])  # Slicing\n",
    "print()\n",
    "\n",
    "# Dictionary\n",
    "my_dict = {\n",
    "    \"name\": \"Alice\",\n",
    "    \"age\": 25,\n",
    "    \"city\": \"New York\",\n",
    "    \"job\": \"Engineer\",\n",
    "    \"hobby\": \"Painting\"\n",
    "}\n",
    "\n",
    "# Accessing elements of the dictionary\n",
    "print(\"Dictionary:\")\n",
    "print(\"Value for key 'name':\", my_dict[\"name\"])  # Access value by key\n",
    "print(\"Value for key 'job':\", my_dict[\"job\"])    # Access value by key\n",
    "print(\"Keys in dictionary:\", list(my_dict.keys()))  # List of keys\n",
    "print(\"Values in dictionary:\", list(my_dict.values()))  # List of values\n"
   ]
  },
  {
   "cell_type": "code",
   "execution_count": null,
   "id": "dbe42dfd-89ea-4244-b834-76effe9a4156",
   "metadata": {},
   "outputs": [],
   "source": []
  }
 ],
 "metadata": {
  "kernelspec": {
   "display_name": "Python [conda env:base] *",
   "language": "python",
   "name": "conda-base-py"
  },
  "language_info": {
   "codemirror_mode": {
    "name": "ipython",
    "version": 3
   },
   "file_extension": ".py",
   "mimetype": "text/x-python",
   "name": "python",
   "nbconvert_exporter": "python",
   "pygments_lexer": "ipython3",
   "version": "3.12.7"
  }
 },
 "nbformat": 4,
 "nbformat_minor": 5
}
