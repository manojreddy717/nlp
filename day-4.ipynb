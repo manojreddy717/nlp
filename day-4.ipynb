{
 "cells": [
  {
   "cell_type": "markdown",
   "id": "bede4f4b-52e5-433b-bf5e-0a73bd25be51",
   "metadata": {},
   "source": [
    "# Input: A positive integer n\n",
    "n = int(input(\"Enter a positive integer: \"))\n",
    "\n",
    "# Initialize the sum\n",
    "even_sum = 0\n",
    "\n",
    "# Calculate the sum of even numbers\n",
    "for num in range(2, n + 1, 2):  # Start at 2, step by 2 to include only even numbers\n",
    "    even_sum += num\n",
    "\n",
    "# Output the result\n",
    "print(f\"The sum of all even numbers between 1 and {n} is: {even_sum}\")\n"
   ]
  },
  {
   "cell_type": "code",
   "execution_count": 6,
   "id": "d0811c43-46bb-4150-a0bc-a68eb0907b5e",
   "metadata": {},
   "outputs": [
    {
     "name": "stdin",
     "output_type": "stream",
     "text": [
      "Enter a positive integer:  5\n"
     ]
    },
    {
     "name": "stdout",
     "output_type": "stream",
     "text": [
      "The sum of all even numbers between 1 and 5 is: 6\n"
     ]
    }
   ],
   "source": [
    "# Input: A positive integer n\n",
    "n = int(input(\"Enter a positive integer: \"))\n",
    "\n",
    "# Initialize the sum\n",
    "even_sum = 0\n",
    "\n",
    "# Calculate the sum of even numbers\n",
    "for num in range(2, n + 1, 2):  # Start at 2, step by 2 to include only even numbers\n",
    "    even_sum += num\n",
    "\n",
    "# Output the result\n",
    "print(f\"The sum of all even numbers between 1 and {n} is: {even_sum}\")\n"
   ]
  },
  {
   "cell_type": "code",
   "execution_count": null,
   "id": "ab305333-fc6a-49ed-b6af-cecc244041e1",
   "metadata": {},
   "outputs": [],
   "source": []
  }
 ],
 "metadata": {
  "kernelspec": {
   "display_name": "Python [conda env:base] *",
   "language": "python",
   "name": "conda-base-py"
  },
  "language_info": {
   "codemirror_mode": {
    "name": "ipython",
    "version": 3
   },
   "file_extension": ".py",
   "mimetype": "text/x-python",
   "name": "python",
   "nbconvert_exporter": "python",
   "pygments_lexer": "ipython3",
   "version": "3.12.7"
  }
 },
 "nbformat": 4,
 "nbformat_minor": 5
}
